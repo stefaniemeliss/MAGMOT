{
 "cells": [
  {
   "cell_type": "markdown",
   "metadata": {},
   "source": [
    "# Cutting fMRI data\n",
    "\n",
    "This code is written to cut fMRI data along the 4th dimension, i.e. to reduce the number of volumes. \n",
    "\n",
    "This is necessary because the scanner did not stop automatically at the end of each block of the experiment, but had to be stopped manually. \n",
    "\n",
    "First, we will import all necessary libraries."
   ]
  },
  {
   "cell_type": "code",
   "execution_count": null,
   "metadata": {},
   "outputs": [],
   "source": [
    "import pandas as pd\n",
    "import nibabel as nib\n",
    "import os\n",
    "import re"
   ]
  },
  {
   "cell_type": "markdown",
   "metadata": {},
   "source": [
    "### Load in information about scan duration\n",
    "\n",
    "As next step, we load the file containing information about the actual duration of each task block. More specifically, it contains the subject name in BIDS format (*ID*), the name of the *scan* in BIDS format, the duration of each *run* (i.e. each task block individually) as well as the duration of the *scan* (i.e. accumulated duration across all task blocks for a subject). The durations are given in both, TR (TR = 2s) and seconds. \n",
    "\n",
    "Please note that this file was downloaded using a seperate R script \"1_download_from_OSF.R\""
   ]
  },
  {
   "cell_type": "code",
   "execution_count": null,
   "metadata": {},
   "outputs": [],
   "source": [
    "duration_file_path = os.getcwd()\n",
    "duration_file_name = os.path.join(duration_file_path, 'MAGMOT_informationAboutScanDuration.tsv')\n",
    "duration = pd.read_csv(duration_file_name, sep='\\t')\n",
    "duration.head()\n",
    "os.remove(duration_file_name) # delete file"
   ]
  },
  {
   "cell_type": "markdown",
   "metadata": {},
   "source": [
    "### Create a list containing the subject names to loop through\n",
    "\n",
    "As a next step, we will create a list containing all subject IDs. For this, we make use of the folder names in the BIDS dataset directory and select only the ones that have \"sub\" as a string. Afterwards, we sort the list in ascending order."
   ]
  },
  {
   "cell_type": "code",
   "execution_count": null,
   "metadata": {},
   "outputs": [],
   "source": [
    "# define path where the data set in BIDS format is stored\n",
    "main_path = '/Users/stefaniemeliss/Dropbox/Reading/PhD/Magictricks/fmri_study'\n",
    "BIDS_path = os.path.join(main_path, 'MAGMOT_BIDS') # this has to be adapted as necessary\n",
    "# list all folders in the BIDS directory\n",
    "dir_list = os.listdir(BIDS_path) \n",
    "# only use those that contain the string \"sub\"\n",
    "subjects = [x for x in dir_list if \"sub\" in x]\n",
    "subjects.sort() # sort subjects ascending\n",
    "print(subjects)\n",
    "print(len(subjects) == 50) # verify that the subject list has 50 elements\n",
    "subjects = ['sub-control001', 'sub-control002']"
   ]
  },
  {
   "cell_type": "markdown",
   "metadata": {},
   "source": [
    "### Use list to iterate through subjects and cut their fMRI data\n",
    "\n",
    "Now we will use the subject list and loop through all of the subjects to cut their fmri data. \n",
    "\n",
    "For each subject, we \n",
    "1. define the data directory\n",
    "2. list all bold files that relate the the task\n",
    "\n",
    "Then, for each of the files, we\n",
    "1. identify the corresponding entry in the duration dataframe\n",
    "2. use this to cut the file using .slicer\n",
    "\n",
    "from https://nipy.org/nibabel/nibabel_images.html \"At times it is useful to manipulate an image’s shape while keeping it in the same coordinate system. The slicer attribute provides an array-slicing interface to produce new images with an appropriately adjusted header, such that the data at a given RAS+ location is unchanged.\"\n"
   ]
  },
  {
   "cell_type": "code",
   "execution_count": null,
   "metadata": {},
   "outputs": [],
   "source": [
    "# define output root dir\n",
    "cut_root = os.path.join(main_path, 'derivatives', 'cut')\n",
    "# create directory if it does not exist yet\n",
    "if os.path.exists(cut_root) is not True:\n",
    "    os.mkdir(cut_root)\n",
    "\n",
    "for subj in subjects:\n",
    "    \n",
    "    # go into folder that contains the fMRI data\n",
    "    data_path =  os.path.join(BIDS_path, subj, 'func')\n",
    "    \n",
    "    # create list that contains all task fMRI files\n",
    "    # list all folders in the BIDS directory\n",
    "    file_list = os.listdir(data_path) \n",
    "    # only use those that contain the string \"sub\"\n",
    "    task_files = [x for x in file_list if \"magictrickwatching\" in x]\n",
    "    task_nii_files = [x for x in task_files if \"nii\" in x]\n",
    "    task_nii_files.sort() # sort subjects ascending\n",
    "    \n",
    "    # define output path for each subject\n",
    "    cut_path = os.path.join(cut_root, subj) # define output folder on subject level\n",
    "    if os.path.exists(cut_path) is not True:\n",
    "        os.mkdir(cut_path) # create outputfolder\n",
    "    \n",
    "    ####### create the next loop to iterate through through task_nii_files #######\n",
    "    for scan_name in task_nii_files:\n",
    "        print(scan_name)\n",
    "\n",
    "        # define the file name of the nii file\n",
    "        nii_filename = os.path.join(data_path, scan_name)\n",
    "        \n",
    "        # load in the nii file as img\n",
    "        img = nib.load(nii_filename)\n",
    "        \n",
    "        # use scan_name to create scan_id: this will match the scan column in the duration dataframe\n",
    "        scan_id = re.sub('_bold.nii.gz', '', scan_name)\n",
    "        \n",
    "        # get the duration of the scan_namen (i.e. scan_id) from the duration dataframe\n",
    "        # find out which the corresponding row in the duration df is\n",
    "        target_row = duration.loc[duration['scan'] == scan_id].index\n",
    "        target_row_index = target_row.tolist() # transform Int64Index to integer\n",
    "        print(target_row_index)\n",
    "        # use target_row_index to get the actual duration in TR corresponding to the current scan_name\n",
    "        target_duration = duration.loc[target_row_index, 'duration_run_TR']\n",
    "        target_duration = target_duration.tolist() # transform Int64Index to integer\n",
    "        target_duration_index = int(target_duration[0]) # we don't need to substract 1 because the stop slice is exclusive in python\n",
    "        print(target_duration_index)\n",
    "        \n",
    "        # Slice nii file using .slicer\n",
    "        cut = img.slicer[..., 0:target_duration_index] # drop the last couple of volumes\n",
    "\n",
    "        # Save concatenated file\n",
    "        cut_filename = re.sub('_bold.nii.gz', '_desc-cut_bold.nii.gz', scan_name)\n",
    "        cut_file = os.path.join(cut_path, cut_filename)\n",
    "        nib.save(cut, cut_file)\n",
    "        "
   ]
  }
 ],
 "metadata": {
  "kernelspec": {
   "display_name": "Python 3",
   "language": "python",
   "name": "python3"
  },
  "language_info": {
   "codemirror_mode": {
    "name": "ipython",
    "version": 3
   },
   "file_extension": ".py",
   "mimetype": "text/x-python",
   "name": "python",
   "nbconvert_exporter": "python",
   "pygments_lexer": "ipython3",
   "version": "3.8.3"
  }
 },
 "nbformat": 4,
 "nbformat_minor": 4
}
